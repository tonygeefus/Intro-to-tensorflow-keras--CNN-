{
 "cells": [
  {
   "cell_type": "code",
   "execution_count": 3,
   "metadata": {},
   "outputs": [
    {
     "name": "stdout",
     "output_type": "stream",
     "text": [
      "Epoch 1/20\n",
      "60000/60000 [==============================] - 8s 128us/sample - loss: 0.4955 - accuracy: 0.8253\n",
      "Epoch 2/20\n",
      "60000/60000 [==============================] - 7s 115us/sample - loss: 0.3737 - accuracy: 0.8647\n",
      "Epoch 3/20\n",
      "60000/60000 [==============================] - 6s 94us/sample - loss: 0.3364 - accuracy: 0.8761\n",
      "Epoch 4/20\n",
      "60000/60000 [==============================] - 6s 106us/sample - loss: 0.3128 - accuracy: 0.8852\n",
      "Epoch 5/20\n",
      "60000/60000 [==============================] - 6s 92us/sample - loss: 0.2954 - accuracy: 0.8904\n",
      "Epoch 6/20\n",
      "60000/60000 [==============================] - 6s 92us/sample - loss: 0.2812 - accuracy: 0.8959\n",
      "Epoch 7/20\n",
      "60000/60000 [==============================] - 5s 92us/sample - loss: 0.2647 - accuracy: 0.9013\n",
      "Epoch 8/20\n",
      "60000/60000 [==============================] - 5s 77us/sample - loss: 0.2554 - accuracy: 0.9047\n",
      "Epoch 9/20\n",
      "60000/60000 [==============================] - 6s 104us/sample - loss: 0.2463 - accuracy: 0.9075\n",
      "Epoch 10/20\n",
      "60000/60000 [==============================] - 7s 114us/sample - loss: 0.2361 - accuracy: 0.9113\n",
      "Epoch 11/20\n",
      "60000/60000 [==============================] - 7s 114us/sample - loss: 0.2288 - accuracy: 0.9135\n",
      "Epoch 12/20\n",
      "60000/60000 [==============================] - 7s 114us/sample - loss: 0.2222 - accuracy: 0.9175\n",
      "Epoch 13/20\n",
      "60000/60000 [==============================] - 7s 114us/sample - loss: 0.2166 - accuracy: 0.9174\n",
      "Epoch 14/20\n",
      "60000/60000 [==============================] - 7s 114us/sample - loss: 0.2082 - accuracy: 0.9216\n",
      "Epoch 15/20\n",
      "60000/60000 [==============================] - 7s 114us/sample - loss: 0.2008 - accuracy: 0.9247\n",
      "Epoch 16/20\n",
      "60000/60000 [==============================] - 7s 113us/sample - loss: 0.1978 - accuracy: 0.9255\n",
      "Epoch 17/20\n",
      "60000/60000 [==============================] - 8s 126us/sample - loss: 0.1912 - accuracy: 0.9279\n",
      "Epoch 18/20\n",
      "60000/60000 [==============================] - 7s 122us/sample - loss: 0.1864 - accuracy: 0.9293\n",
      "Epoch 19/20\n",
      "60000/60000 [==============================] - 7s 122us/sample - loss: 0.1815 - accuracy: 0.9314\n",
      "Epoch 20/20\n",
      "60000/60000 [==============================] - 7s 122us/sample - loss: 0.1763 - accuracy: 0.9322\n",
      "10000/10000 [==============================] - 1s 78us/sample - loss: 0.3597 - accuracy: 0.8828\n"
     ]
    },
    {
     "data": {
      "text/plain": [
       "[0.35973834432959556, 0.8828]"
      ]
     },
     "execution_count": 3,
     "metadata": {},
     "output_type": "execute_result"
    }
   ],
   "source": [
    "import tensorflow as tf\n",
    "mnist = tf.keras.datasets.fashion_mnist\n",
    "(training_images, training_labels), (test_images, test_labels) = mnist.load_data()\n",
    "training_images  = training_images / 255.0\n",
    "test_images = test_images / 255.0\n",
    "model = tf.keras.models.Sequential([tf.keras.layers.Flatten(), \n",
    "                                    tf.keras.layers.Dense(128, activation=tf.nn.relu), \n",
    "                                    tf.keras.layers.Dense(10, activation=tf.nn.softmax)])\n",
    "\n",
    "model.compile(optimizer = 'adam',\n",
    "              loss = 'sparse_categorical_crossentropy',\n",
    "              metrics=['accuracy'])\n",
    "\n",
    "model.fit(training_images, training_labels, epochs=20)\n",
    "model.evaluate(test_images, test_labels)"
   ]
  }
 ],
 "metadata": {
  "kernelspec": {
   "display_name": "Python 3",
   "language": "python",
   "name": "python3"
  },
  "language_info": {
   "codemirror_mode": {
    "name": "ipython",
    "version": 3
   },
   "file_extension": ".py",
   "mimetype": "text/x-python",
   "name": "python",
   "nbconvert_exporter": "python",
   "pygments_lexer": "ipython3",
   "version": "3.7.0"
  }
 },
 "nbformat": 4,
 "nbformat_minor": 2
}
